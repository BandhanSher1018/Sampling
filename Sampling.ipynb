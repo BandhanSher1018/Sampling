{
  "nbformat": 4,
  "nbformat_minor": 0,
  "metadata": {
    "colab": {
      "provenance": []
    },
    "kernelspec": {
      "name": "python3",
      "display_name": "Python 3"
    },
    "language_info": {
      "name": "python"
    }
  },
  "cells": [
    {
      "cell_type": "code",
      "execution_count": 16,
      "metadata": {
        "id": "hyswt45OOGkJ"
      },
      "outputs": [],
      "source": [
        "import pandas as pd\n",
        "import numpy as np\n",
        "import imblearn\n",
        "import seaborn as sns"
      ]
    },
    {
      "cell_type": "code",
      "source": [
        "data = pd.read_csv(\"/content/Creditcard_data.csv\")\n",
        "data"
      ],
      "metadata": {
        "colab": {
          "base_uri": "https://localhost:8080/",
          "height": 487
        },
        "id": "JhZiy4A-PXNW",
        "outputId": "dd9e2d3b-ecb5-48a9-9a77-e7f7af64a33d"
      },
      "execution_count": 17,
      "outputs": [
        {
          "output_type": "execute_result",
          "data": {
            "text/plain": [
              "     Time        V1        V2        V3        V4        V5        V6  \\\n",
              "0       0 -1.359807 -0.072781  2.536347  1.378155 -0.338321  0.462388   \n",
              "1       0  1.191857  0.266151  0.166480  0.448154  0.060018 -0.082361   \n",
              "2       1 -1.358354 -1.340163  1.773209  0.379780 -0.503198  1.800499   \n",
              "3       1 -0.966272 -0.185226  1.792993 -0.863291 -0.010309  1.247203   \n",
              "4       2 -1.158233  0.877737  1.548718  0.403034 -0.407193  0.095921   \n",
              "..    ...       ...       ...       ...       ...       ...       ...   \n",
              "767   575 -0.572263  0.731748  1.541254  0.150506  1.108974  0.372152   \n",
              "768   579 -1.296845 -0.511605  2.404726 -0.310762 -0.319551 -0.542842   \n",
              "769   579  1.214170  0.210481  0.484651  0.479768 -0.261955 -0.527039   \n",
              "770   580  1.267030 -0.071114  0.037680  0.512683  0.242392  0.705212   \n",
              "771   581  1.153758  0.132273  0.382969  1.405063 -0.224287 -0.197295   \n",
              "\n",
              "           V7        V8        V9  ...       V21       V22       V23  \\\n",
              "0    0.239599  0.098698  0.363787  ... -0.018307  0.277838 -0.110474   \n",
              "1   -0.078803  0.085102 -0.255425  ... -0.225775 -0.638672  0.101288   \n",
              "2    0.791461  0.247676 -1.514654  ...  0.247998  0.771679  0.909412   \n",
              "3    0.237609  0.377436 -1.387024  ... -0.108300  0.005274 -0.190321   \n",
              "4    0.592941 -0.270533  0.817739  ... -0.009431  0.798278 -0.137458   \n",
              "..        ...       ...       ...  ...       ...       ...       ...   \n",
              "767  1.084879 -0.146329 -0.274447  ... -0.143508 -0.107582 -0.418263   \n",
              "768 -0.173310  0.260423 -1.202688  ... -0.071270 -0.161175  0.088496   \n",
              "769  0.021782 -0.106888 -0.037631  ... -0.224292 -0.594609  0.159877   \n",
              "770 -0.226582  0.109483  0.657565  ... -0.164468 -0.177225 -0.222918   \n",
              "771  0.020653  0.029260  0.412254  ... -0.107809 -0.125231 -0.057041   \n",
              "\n",
              "          V24       V25       V26       V27       V28  Amount  Class  \n",
              "0    0.066928  0.128539 -0.189115  0.133558 -0.021053  149.62      0  \n",
              "1   -0.339846  0.167170  0.125895 -0.008983  0.014724    2.69      1  \n",
              "2   -0.689281 -0.327642 -0.139097 -0.055353 -0.059752  378.66      0  \n",
              "3   -1.175575  0.647376 -0.221929  0.062723  0.061458  123.50      0  \n",
              "4    0.141267 -0.206010  0.502292  0.219422  0.215153   69.99      0  \n",
              "..        ...       ...       ...       ...       ...     ...    ...  \n",
              "767 -0.731029  0.877525 -0.364150 -0.177509 -0.256545   26.72      0  \n",
              "768  0.285390  0.281069 -0.370130  0.043410  0.092318   80.00      0  \n",
              "769  0.091873  0.140964  0.227406 -0.017389  0.016030    5.98      0  \n",
              "770 -1.245505  0.678360  0.525059  0.002920 -0.003333   12.36      0  \n",
              "771  0.073082  0.633977 -0.310685  0.033590  0.015250   13.79      0  \n",
              "\n",
              "[772 rows x 31 columns]"
            ],
            "text/html": [
              "\n",
              "  <div id=\"df-28379c5b-ab9d-4e20-afbf-eb042f518af4\">\n",
              "    <div class=\"colab-df-container\">\n",
              "      <div>\n",
              "<style scoped>\n",
              "    .dataframe tbody tr th:only-of-type {\n",
              "        vertical-align: middle;\n",
              "    }\n",
              "\n",
              "    .dataframe tbody tr th {\n",
              "        vertical-align: top;\n",
              "    }\n",
              "\n",
              "    .dataframe thead th {\n",
              "        text-align: right;\n",
              "    }\n",
              "</style>\n",
              "<table border=\"1\" class=\"dataframe\">\n",
              "  <thead>\n",
              "    <tr style=\"text-align: right;\">\n",
              "      <th></th>\n",
              "      <th>Time</th>\n",
              "      <th>V1</th>\n",
              "      <th>V2</th>\n",
              "      <th>V3</th>\n",
              "      <th>V4</th>\n",
              "      <th>V5</th>\n",
              "      <th>V6</th>\n",
              "      <th>V7</th>\n",
              "      <th>V8</th>\n",
              "      <th>V9</th>\n",
              "      <th>...</th>\n",
              "      <th>V21</th>\n",
              "      <th>V22</th>\n",
              "      <th>V23</th>\n",
              "      <th>V24</th>\n",
              "      <th>V25</th>\n",
              "      <th>V26</th>\n",
              "      <th>V27</th>\n",
              "      <th>V28</th>\n",
              "      <th>Amount</th>\n",
              "      <th>Class</th>\n",
              "    </tr>\n",
              "  </thead>\n",
              "  <tbody>\n",
              "    <tr>\n",
              "      <th>0</th>\n",
              "      <td>0</td>\n",
              "      <td>-1.359807</td>\n",
              "      <td>-0.072781</td>\n",
              "      <td>2.536347</td>\n",
              "      <td>1.378155</td>\n",
              "      <td>-0.338321</td>\n",
              "      <td>0.462388</td>\n",
              "      <td>0.239599</td>\n",
              "      <td>0.098698</td>\n",
              "      <td>0.363787</td>\n",
              "      <td>...</td>\n",
              "      <td>-0.018307</td>\n",
              "      <td>0.277838</td>\n",
              "      <td>-0.110474</td>\n",
              "      <td>0.066928</td>\n",
              "      <td>0.128539</td>\n",
              "      <td>-0.189115</td>\n",
              "      <td>0.133558</td>\n",
              "      <td>-0.021053</td>\n",
              "      <td>149.62</td>\n",
              "      <td>0</td>\n",
              "    </tr>\n",
              "    <tr>\n",
              "      <th>1</th>\n",
              "      <td>0</td>\n",
              "      <td>1.191857</td>\n",
              "      <td>0.266151</td>\n",
              "      <td>0.166480</td>\n",
              "      <td>0.448154</td>\n",
              "      <td>0.060018</td>\n",
              "      <td>-0.082361</td>\n",
              "      <td>-0.078803</td>\n",
              "      <td>0.085102</td>\n",
              "      <td>-0.255425</td>\n",
              "      <td>...</td>\n",
              "      <td>-0.225775</td>\n",
              "      <td>-0.638672</td>\n",
              "      <td>0.101288</td>\n",
              "      <td>-0.339846</td>\n",
              "      <td>0.167170</td>\n",
              "      <td>0.125895</td>\n",
              "      <td>-0.008983</td>\n",
              "      <td>0.014724</td>\n",
              "      <td>2.69</td>\n",
              "      <td>1</td>\n",
              "    </tr>\n",
              "    <tr>\n",
              "      <th>2</th>\n",
              "      <td>1</td>\n",
              "      <td>-1.358354</td>\n",
              "      <td>-1.340163</td>\n",
              "      <td>1.773209</td>\n",
              "      <td>0.379780</td>\n",
              "      <td>-0.503198</td>\n",
              "      <td>1.800499</td>\n",
              "      <td>0.791461</td>\n",
              "      <td>0.247676</td>\n",
              "      <td>-1.514654</td>\n",
              "      <td>...</td>\n",
              "      <td>0.247998</td>\n",
              "      <td>0.771679</td>\n",
              "      <td>0.909412</td>\n",
              "      <td>-0.689281</td>\n",
              "      <td>-0.327642</td>\n",
              "      <td>-0.139097</td>\n",
              "      <td>-0.055353</td>\n",
              "      <td>-0.059752</td>\n",
              "      <td>378.66</td>\n",
              "      <td>0</td>\n",
              "    </tr>\n",
              "    <tr>\n",
              "      <th>3</th>\n",
              "      <td>1</td>\n",
              "      <td>-0.966272</td>\n",
              "      <td>-0.185226</td>\n",
              "      <td>1.792993</td>\n",
              "      <td>-0.863291</td>\n",
              "      <td>-0.010309</td>\n",
              "      <td>1.247203</td>\n",
              "      <td>0.237609</td>\n",
              "      <td>0.377436</td>\n",
              "      <td>-1.387024</td>\n",
              "      <td>...</td>\n",
              "      <td>-0.108300</td>\n",
              "      <td>0.005274</td>\n",
              "      <td>-0.190321</td>\n",
              "      <td>-1.175575</td>\n",
              "      <td>0.647376</td>\n",
              "      <td>-0.221929</td>\n",
              "      <td>0.062723</td>\n",
              "      <td>0.061458</td>\n",
              "      <td>123.50</td>\n",
              "      <td>0</td>\n",
              "    </tr>\n",
              "    <tr>\n",
              "      <th>4</th>\n",
              "      <td>2</td>\n",
              "      <td>-1.158233</td>\n",
              "      <td>0.877737</td>\n",
              "      <td>1.548718</td>\n",
              "      <td>0.403034</td>\n",
              "      <td>-0.407193</td>\n",
              "      <td>0.095921</td>\n",
              "      <td>0.592941</td>\n",
              "      <td>-0.270533</td>\n",
              "      <td>0.817739</td>\n",
              "      <td>...</td>\n",
              "      <td>-0.009431</td>\n",
              "      <td>0.798278</td>\n",
              "      <td>-0.137458</td>\n",
              "      <td>0.141267</td>\n",
              "      <td>-0.206010</td>\n",
              "      <td>0.502292</td>\n",
              "      <td>0.219422</td>\n",
              "      <td>0.215153</td>\n",
              "      <td>69.99</td>\n",
              "      <td>0</td>\n",
              "    </tr>\n",
              "    <tr>\n",
              "      <th>...</th>\n",
              "      <td>...</td>\n",
              "      <td>...</td>\n",
              "      <td>...</td>\n",
              "      <td>...</td>\n",
              "      <td>...</td>\n",
              "      <td>...</td>\n",
              "      <td>...</td>\n",
              "      <td>...</td>\n",
              "      <td>...</td>\n",
              "      <td>...</td>\n",
              "      <td>...</td>\n",
              "      <td>...</td>\n",
              "      <td>...</td>\n",
              "      <td>...</td>\n",
              "      <td>...</td>\n",
              "      <td>...</td>\n",
              "      <td>...</td>\n",
              "      <td>...</td>\n",
              "      <td>...</td>\n",
              "      <td>...</td>\n",
              "      <td>...</td>\n",
              "    </tr>\n",
              "    <tr>\n",
              "      <th>767</th>\n",
              "      <td>575</td>\n",
              "      <td>-0.572263</td>\n",
              "      <td>0.731748</td>\n",
              "      <td>1.541254</td>\n",
              "      <td>0.150506</td>\n",
              "      <td>1.108974</td>\n",
              "      <td>0.372152</td>\n",
              "      <td>1.084879</td>\n",
              "      <td>-0.146329</td>\n",
              "      <td>-0.274447</td>\n",
              "      <td>...</td>\n",
              "      <td>-0.143508</td>\n",
              "      <td>-0.107582</td>\n",
              "      <td>-0.418263</td>\n",
              "      <td>-0.731029</td>\n",
              "      <td>0.877525</td>\n",
              "      <td>-0.364150</td>\n",
              "      <td>-0.177509</td>\n",
              "      <td>-0.256545</td>\n",
              "      <td>26.72</td>\n",
              "      <td>0</td>\n",
              "    </tr>\n",
              "    <tr>\n",
              "      <th>768</th>\n",
              "      <td>579</td>\n",
              "      <td>-1.296845</td>\n",
              "      <td>-0.511605</td>\n",
              "      <td>2.404726</td>\n",
              "      <td>-0.310762</td>\n",
              "      <td>-0.319551</td>\n",
              "      <td>-0.542842</td>\n",
              "      <td>-0.173310</td>\n",
              "      <td>0.260423</td>\n",
              "      <td>-1.202688</td>\n",
              "      <td>...</td>\n",
              "      <td>-0.071270</td>\n",
              "      <td>-0.161175</td>\n",
              "      <td>0.088496</td>\n",
              "      <td>0.285390</td>\n",
              "      <td>0.281069</td>\n",
              "      <td>-0.370130</td>\n",
              "      <td>0.043410</td>\n",
              "      <td>0.092318</td>\n",
              "      <td>80.00</td>\n",
              "      <td>0</td>\n",
              "    </tr>\n",
              "    <tr>\n",
              "      <th>769</th>\n",
              "      <td>579</td>\n",
              "      <td>1.214170</td>\n",
              "      <td>0.210481</td>\n",
              "      <td>0.484651</td>\n",
              "      <td>0.479768</td>\n",
              "      <td>-0.261955</td>\n",
              "      <td>-0.527039</td>\n",
              "      <td>0.021782</td>\n",
              "      <td>-0.106888</td>\n",
              "      <td>-0.037631</td>\n",
              "      <td>...</td>\n",
              "      <td>-0.224292</td>\n",
              "      <td>-0.594609</td>\n",
              "      <td>0.159877</td>\n",
              "      <td>0.091873</td>\n",
              "      <td>0.140964</td>\n",
              "      <td>0.227406</td>\n",
              "      <td>-0.017389</td>\n",
              "      <td>0.016030</td>\n",
              "      <td>5.98</td>\n",
              "      <td>0</td>\n",
              "    </tr>\n",
              "    <tr>\n",
              "      <th>770</th>\n",
              "      <td>580</td>\n",
              "      <td>1.267030</td>\n",
              "      <td>-0.071114</td>\n",
              "      <td>0.037680</td>\n",
              "      <td>0.512683</td>\n",
              "      <td>0.242392</td>\n",
              "      <td>0.705212</td>\n",
              "      <td>-0.226582</td>\n",
              "      <td>0.109483</td>\n",
              "      <td>0.657565</td>\n",
              "      <td>...</td>\n",
              "      <td>-0.164468</td>\n",
              "      <td>-0.177225</td>\n",
              "      <td>-0.222918</td>\n",
              "      <td>-1.245505</td>\n",
              "      <td>0.678360</td>\n",
              "      <td>0.525059</td>\n",
              "      <td>0.002920</td>\n",
              "      <td>-0.003333</td>\n",
              "      <td>12.36</td>\n",
              "      <td>0</td>\n",
              "    </tr>\n",
              "    <tr>\n",
              "      <th>771</th>\n",
              "      <td>581</td>\n",
              "      <td>1.153758</td>\n",
              "      <td>0.132273</td>\n",
              "      <td>0.382969</td>\n",
              "      <td>1.405063</td>\n",
              "      <td>-0.224287</td>\n",
              "      <td>-0.197295</td>\n",
              "      <td>0.020653</td>\n",
              "      <td>0.029260</td>\n",
              "      <td>0.412254</td>\n",
              "      <td>...</td>\n",
              "      <td>-0.107809</td>\n",
              "      <td>-0.125231</td>\n",
              "      <td>-0.057041</td>\n",
              "      <td>0.073082</td>\n",
              "      <td>0.633977</td>\n",
              "      <td>-0.310685</td>\n",
              "      <td>0.033590</td>\n",
              "      <td>0.015250</td>\n",
              "      <td>13.79</td>\n",
              "      <td>0</td>\n",
              "    </tr>\n",
              "  </tbody>\n",
              "</table>\n",
              "<p>772 rows × 31 columns</p>\n",
              "</div>\n",
              "      <button class=\"colab-df-convert\" onclick=\"convertToInteractive('df-28379c5b-ab9d-4e20-afbf-eb042f518af4')\"\n",
              "              title=\"Convert this dataframe to an interactive table.\"\n",
              "              style=\"display:none;\">\n",
              "        \n",
              "  <svg xmlns=\"http://www.w3.org/2000/svg\" height=\"24px\"viewBox=\"0 0 24 24\"\n",
              "       width=\"24px\">\n",
              "    <path d=\"M0 0h24v24H0V0z\" fill=\"none\"/>\n",
              "    <path d=\"M18.56 5.44l.94 2.06.94-2.06 2.06-.94-2.06-.94-.94-2.06-.94 2.06-2.06.94zm-11 1L8.5 8.5l.94-2.06 2.06-.94-2.06-.94L8.5 2.5l-.94 2.06-2.06.94zm10 10l.94 2.06.94-2.06 2.06-.94-2.06-.94-.94-2.06-.94 2.06-2.06.94z\"/><path d=\"M17.41 7.96l-1.37-1.37c-.4-.4-.92-.59-1.43-.59-.52 0-1.04.2-1.43.59L10.3 9.45l-7.72 7.72c-.78.78-.78 2.05 0 2.83L4 21.41c.39.39.9.59 1.41.59.51 0 1.02-.2 1.41-.59l7.78-7.78 2.81-2.81c.8-.78.8-2.07 0-2.86zM5.41 20L4 18.59l7.72-7.72 1.47 1.35L5.41 20z\"/>\n",
              "  </svg>\n",
              "      </button>\n",
              "      \n",
              "  <style>\n",
              "    .colab-df-container {\n",
              "      display:flex;\n",
              "      flex-wrap:wrap;\n",
              "      gap: 12px;\n",
              "    }\n",
              "\n",
              "    .colab-df-convert {\n",
              "      background-color: #E8F0FE;\n",
              "      border: none;\n",
              "      border-radius: 50%;\n",
              "      cursor: pointer;\n",
              "      display: none;\n",
              "      fill: #1967D2;\n",
              "      height: 32px;\n",
              "      padding: 0 0 0 0;\n",
              "      width: 32px;\n",
              "    }\n",
              "\n",
              "    .colab-df-convert:hover {\n",
              "      background-color: #E2EBFA;\n",
              "      box-shadow: 0px 1px 2px rgba(60, 64, 67, 0.3), 0px 1px 3px 1px rgba(60, 64, 67, 0.15);\n",
              "      fill: #174EA6;\n",
              "    }\n",
              "\n",
              "    [theme=dark] .colab-df-convert {\n",
              "      background-color: #3B4455;\n",
              "      fill: #D2E3FC;\n",
              "    }\n",
              "\n",
              "    [theme=dark] .colab-df-convert:hover {\n",
              "      background-color: #434B5C;\n",
              "      box-shadow: 0px 1px 3px 1px rgba(0, 0, 0, 0.15);\n",
              "      filter: drop-shadow(0px 1px 2px rgba(0, 0, 0, 0.3));\n",
              "      fill: #FFFFFF;\n",
              "    }\n",
              "  </style>\n",
              "\n",
              "      <script>\n",
              "        const buttonEl =\n",
              "          document.querySelector('#df-28379c5b-ab9d-4e20-afbf-eb042f518af4 button.colab-df-convert');\n",
              "        buttonEl.style.display =\n",
              "          google.colab.kernel.accessAllowed ? 'block' : 'none';\n",
              "\n",
              "        async function convertToInteractive(key) {\n",
              "          const element = document.querySelector('#df-28379c5b-ab9d-4e20-afbf-eb042f518af4');\n",
              "          const dataTable =\n",
              "            await google.colab.kernel.invokeFunction('convertToInteractive',\n",
              "                                                     [key], {});\n",
              "          if (!dataTable) return;\n",
              "\n",
              "          const docLinkHtml = 'Like what you see? Visit the ' +\n",
              "            '<a target=\"_blank\" href=https://colab.research.google.com/notebooks/data_table.ipynb>data table notebook</a>'\n",
              "            + ' to learn more about interactive tables.';\n",
              "          element.innerHTML = '';\n",
              "          dataTable['output_type'] = 'display_data';\n",
              "          await google.colab.output.renderOutput(dataTable, element);\n",
              "          const docLink = document.createElement('div');\n",
              "          docLink.innerHTML = docLinkHtml;\n",
              "          element.appendChild(docLink);\n",
              "        }\n",
              "      </script>\n",
              "    </div>\n",
              "  </div>\n",
              "  "
            ]
          },
          "metadata": {},
          "execution_count": 17
        }
      ]
    },
    {
      "cell_type": "code",
      "source": [
        "x = data.drop(\"Class\", axis =1)\n",
        "y = data[\"Class\"]\n",
        "\n",
        "sns.countplot(x=y)"
      ],
      "metadata": {
        "colab": {
          "base_uri": "https://localhost:8080/",
          "height": 300
        },
        "id": "0TMM0dWnXNJx",
        "outputId": "ab86a6c6-695f-4c8b-988b-9aa4b81394e8"
      },
      "execution_count": 29,
      "outputs": [
        {
          "output_type": "execute_result",
          "data": {
            "text/plain": [
              "<matplotlib.axes._subplots.AxesSubplot at 0x7f8c73f8fbe0>"
            ]
          },
          "metadata": {},
          "execution_count": 29
        },
        {
          "output_type": "display_data",
          "data": {
            "text/plain": [
              "<Figure size 432x288 with 1 Axes>"
            ],
            "image/png": "[encoded data removed]"
          },
          "metadata": {
            "needs_background": "light"
          }
        }
      ]
    },
    {
      "cell_type": "code",
      "source": [
        "from imblearn.under_sampling import RandomUnderSampler\n",
        "\n",
        "rus = RandomUnderSampler(random_state=42, replacement=True)# fit predictor and target variable\n",
        "x_rus, y_rus = rus.fit_resample(x, y)\n",
        "\n",
        "from collections import Counter\n",
        "print('original dataset shape:', Counter(y))\n",
        "print('Resample dataset shape:', Counter(y_rus))\n",
        "\n",
        "sns.countplot(x=y_rus)\n"
      ],
      "metadata": {
        "colab": {
          "base_uri": "https://localhost:8080/",
          "height": 331
        },
        "id": "nB9ZxXPRZNsZ",
        "outputId": "2e414383-76a9-47b9-f282-7705fc9112c5"
      },
      "execution_count": 30,
      "outputs": [
        {
          "output_type": "stream",
          "name": "stdout",
          "text": [
            "original dataset shape: Counter({0: 763, 1: 9})\n",
            "Resample dataset shape: Counter({0: 9, 1: 9})\n"
          ]
        },
        {
          "output_type": "execute_result",
          "data": {
            "text/plain": [
              "<matplotlib.axes._subplots.AxesSubplot at 0x7f8c747b7f40>"
            ]
          },
          "metadata": {},
          "execution_count": 30
        },
        {
          "output_type": "display_data",
          "data": {
            "text/plain": [
              "<Figure size 432x288 with 1 Axes>"
            ],
            "image/png": "[encoded data removed]"
          },
          "metadata": {
            "needs_background": "light"
          }
        }
      ]
    },
    {
      "cell_type": "code",
      "source": [
        "from imblearn.under_sampling import ClusterCentroids\n",
        "cc = ClusterCentroids(random_state=0)\n",
        "x_resampled, y_resampled = cc.fit_resample(x, y)\n",
        "print('original dataset shape:', Counter(y))\n",
        "print('Resample dataset shape:', Counter(y_resampled))\n",
        "\n",
        "sns.countplot(x=y_resampled)"
      ],
      "metadata": {
        "colab": {
          "base_uri": "https://localhost:8080/",
          "height": 331
        },
        "id": "sx2dTOUcaYjC",
        "outputId": "d79469ee-063a-48d9-f132-508761e57f65"
      },
      "execution_count": 21,
      "outputs": [
        {
          "output_type": "stream",
          "name": "stdout",
          "text": [
            "original dataset shape: Counter({0: 763, 1: 9})\n",
            "Resample dataset shape: Counter({0: 9, 1: 9})\n"
          ]
        },
        {
          "output_type": "execute_result",
          "data": {
            "text/plain": [
              "<matplotlib.axes._subplots.AxesSubplot at 0x7f8c7485b040>"
            ]
          },
          "metadata": {},
          "execution_count": 21
        },
        {
          "output_type": "display_data",
          "data": {
            "text/plain": [
              "<Figure size 432x288 with 1 Axes>"
            ],
            "image/png": "[encoded data removed]"
          },
          "metadata": {
            "needs_background": "light"
          }
        }
      ]
    },
    {
      "cell_type": "code",
      "source": [
        "from imblearn.under_sampling import NearMiss\n",
        "nm1 = NearMiss(version=1)\n",
        "x_resampled_nm1, y_resampled_nm1 = nm1.fit_resample(x, y)\n",
        "print('original dataset shape:', Counter(y))\n",
        "print('Resample dataset shape:', Counter(y_resampled_nm1))\n",
        "\n",
        "sns.countplot(x=y_resampled_nm1)"
      ],
      "metadata": {
        "colab": {
          "base_uri": "https://localhost:8080/",
          "height": 331
        },
        "id": "oLAKkAQya_no",
        "outputId": "8c33d927-a8ec-418b-ad6d-d9805297add2"
      },
      "execution_count": 22,
      "outputs": [
        {
          "output_type": "stream",
          "name": "stdout",
          "text": [
            "original dataset shape: Counter({0: 763, 1: 9})\n",
            "Resample dataset shape: Counter({0: 9, 1: 9})\n"
          ]
        },
        {
          "output_type": "execute_result",
          "data": {
            "text/plain": [
              "<matplotlib.axes._subplots.AxesSubplot at 0x7f8c748ee730>"
            ]
          },
          "metadata": {},
          "execution_count": 22
        },
        {
          "output_type": "display_data",
          "data": {
            "text/plain": [
              "<Figure size 432x288 with 1 Axes>"
            ],
            "image/png": "[encoded data removed]"
          },
          "metadata": {
            "needs_background": "light"
          }
        }
      ]
    },
    {
      "cell_type": "code",
      "source": [
        "from imblearn.over_sampling import RandomOverSampler\n",
        "ros = RandomOverSampler(random_state=0)\n",
        "x_ros, y_ros = ros.fit_resample(x, y)\n",
        "print('original dataset shape:', Counter(y))\n",
        "print('Resample dataset shape:', Counter(y_ros))\n",
        "\n",
        "sns.countplot(x=y_ros)"
      ],
      "metadata": {
        "colab": {
          "base_uri": "https://localhost:8080/",
          "height": 335
        },
        "id": "NDR2alnpbOcA",
        "outputId": "d0486a4a-a9c8-4c7b-b3bc-116aed22d362"
      },
      "execution_count": 23,
      "outputs": [
        {
          "output_type": "stream",
          "name": "stdout",
          "text": [
            "original dataset shape: Counter({0: 763, 1: 9})\n",
            "Resample dataset shape: Counter({0: 763, 1: 763})\n"
          ]
        },
        {
          "output_type": "execute_result",
          "data": {
            "text/plain": [
              "<matplotlib.axes._subplots.AxesSubplot at 0x7f8c749f6af0>"
            ]
          },
          "metadata": {},
          "execution_count": 23
        },
        {
          "output_type": "display_data",
          "data": {
            "text/plain": [
              "<Figure size 432x288 with 1 Axes>"
            ],
            "image/png": "[encoded data removed]"
          },
          "metadata": {
            "needs_background": "light"
          }
        }
      ]
    },
    {
      "cell_type": "code",
      "source": [
        "from imblearn.over_sampling import SMOTE\n",
        "x_smote, y_smote = SMOTE().fit_resample(x, y)\n",
        "x_adasyn, y_adasyn = ADASYN().fit_resample(x,y)\n",
        "print('original dataset shape:', Counter(y))\n",
        "print('Resample dataset shape:', Counter(y_smote))\n",
        "print('Resample dataset shape:', Counter(y_adasyn))\n",
        "\n",
        "sns.countplot(x=y_smote)\n"
      ],
      "metadata": {
        "colab": {
          "base_uri": "https://localhost:8080/",
          "height": 351
        },
        "id": "rPfxiv7gb2d_",
        "outputId": "72cd95b3-0250-4540-9113-85d67aa8947e"
      },
      "execution_count": 25,
      "outputs": [
        {
          "output_type": "stream",
          "name": "stdout",
          "text": [
            "original dataset shape: Counter({0: 763, 1: 9})\n",
            "Resample dataset shape: Counter({0: 763, 1: 763})\n",
            "Resample dataset shape: Counter({1: 765, 0: 763})\n"
          ]
        },
        {
          "output_type": "execute_result",
          "data": {
            "text/plain": [
              "<matplotlib.axes._subplots.AxesSubplot at 0x7f8c77b5d820>"
            ]
          },
          "metadata": {},
          "execution_count": 25
        },
        {
          "output_type": "display_data",
          "data": {
            "text/plain": [
              "<Figure size 432x288 with 1 Axes>"
            ],
            "image/png": "[encoded data removed]"
          },
          "metadata": {
            "needs_background": "light"
          }
        }
      ]
    },
    {
      "cell_type": "code",
      "source": [
        "from imblearn.over_sampling import ADASYN\n",
        "\n",
        "x_adasyn, y_adasyn = ADASYN().fit_resample(x,y)\n",
        "print('original dataset shape:', Counter(y))\n",
        "\n",
        "print('Resample dataset shape:', Counter(y_adasyn))\n",
        "\n",
        "sns.countplot(x=y_adasyn)"
      ],
      "metadata": {
        "colab": {
          "base_uri": "https://localhost:8080/",
          "height": 334
        },
        "id": "7fv7MFBXdC8K",
        "outputId": "49beb584-9484-4f31-a748-460961eff737"
      },
      "execution_count": 26,
      "outputs": [
        {
          "output_type": "stream",
          "name": "stdout",
          "text": [
            "original dataset shape: Counter({0: 763, 1: 9})\n",
            "Resample dataset shape: Counter({1: 765, 0: 763})\n"
          ]
        },
        {
          "output_type": "execute_result",
          "data": {
            "text/plain": [
              "<matplotlib.axes._subplots.AxesSubplot at 0x7f8c741bfca0>"
            ]
          },
          "metadata": {},
          "execution_count": 26
        },
        {
          "output_type": "display_data",
          "data": {
            "text/plain": [
              "<Figure size 432x288 with 1 Axes>"
            ],
            "image/png": "[encoded data removed]"
          },
          "metadata": {
            "needs_background": "light"
          }
        }
      ]
    },
    {
      "cell_type": "code",
      "source": [
        "import matplotlib.pyplot as plt\n",
        "\n",
        "plt.figure(figsize = (15,12))\n",
        "plt.subplot(5,1,1)\n",
        "plt.title(\"RandomUnderSampling\")\n",
        "sns.countplot(x=y_rus)\n",
        "\n",
        "plt.subplot(5,1,2)\n",
        "plt.title(\"RandomOverSampling\")\n",
        "sns.countplot(x=y_ros)\n",
        "\n",
        "plt.subplot(5,1,3)\n",
        "plt.title(\"SMOTE\")\n",
        "sns.countplot(x=y_smote)\n",
        "\n",
        "plt.subplot(5,1,4)\n",
        "plt.title(\"ADASYN\")\n",
        "sns.countplot(x=y_adasyn)\n",
        "\n",
        "plt.subplot(5,1,5)\n",
        "plt.title(\"ClusterCentroids\")\n",
        "sns.countplot(x=y_resampled)\n",
        "\n"
      ],
      "metadata": {
        "colab": {
          "base_uri": "https://localhost:8080/",
          "height": 747
        },
        "collapsed": true,
        "id": "0g5wBFuXe-6i",
        "outputId": "4a9713cc-fec9-427c-a772-db19ca97f14c"
      },
      "execution_count": 46,
      "outputs": [
        {
          "output_type": "execute_result",
          "data": {
            "text/plain": [
              "<matplotlib.axes._subplots.AxesSubplot at 0x7f8c70bd17c0>"
            ]
          },
          "metadata": {},
          "execution_count": 46
        },
        {
          "output_type": "display_data",
          "data": {
            "text/plain": [
              "<Figure size 1080x864 with 5 Axes>"
            ],
            "image/png": "[encoded data removed]"
          },
          "metadata": {
            "needs_background": "light"
          }
        }
      ]
    },
    {
      "cell_type": "code",
      "source": [
        "from sklearn.neighbors import KNeighborsClassifier\n",
        "from sklearn.svm import SVC\n",
        "from sklearn.ensemble import ExtraTreesClassifier\n",
        "from sklearn.ensemble import RandomForestClassifier\n",
        "from sklearn.naive_bayes import GaussianNB\n",
        "from sklearn.model_selection import train_test_split\n",
        "from sklearn.metrics import accuracy_score\n",
        "classifiers = [\n",
        "    KNeighborsClassifier(3),\n",
        "    SVC(gamma=2, C=1),\n",
        "    ExtraTreesClassifier(max_depth=5,n_estimators=10, max_features=1),\n",
        "    RandomForestClassifier(max_depth=5, n_estimators=10, max_features=1),\n",
        "    GaussianNB(),\n",
        "]\n",
        "\n",
        "# Define a function to train the data and print the accuracy, confusion matrix, and classification report\n",
        "def train_model(x, y, model):\n",
        "    x_train, x_test, y_train, y_test = train_test_split(x, y, test_size = 0.2, random_state = 42)\n",
        "    # Avoid warning of convergence\n",
        "    model.fit(x_train, y_train)\n",
        "    y_pred = model.predict(x_test)\n",
        "    return y_test, y_pred\n",
        "sampled_data_names = ['ADASYN', 'SMOTE', 'ClusterCentroids', 'RandomUnderSampler', 'RandomOverSampler']\n",
        "sampled_data = [x_adasyn, x_smote, x_resampled, x_rus, x_ros]\n",
        "sampled_data_labels = [y_adasyn, y_smote, y_resampled, y_rus, y_ros]\n",
        "model_names = ['KNN', 'SVM', 'Logistic Regression', 'Random Forest', 'Naive Bayes']\n",
        "\n",
        "predictions = pd.DataFrame()\n",
        "predictions['Model'] = model_names\n",
        "\n",
        "\n",
        "for i in range(len(sampled_data)):\n",
        "    for j in range(len(classifiers)):\n",
        "        y_test, y_pred = train_model(sampled_data[i], sampled_data_labels[i], classifiers[j])\n",
        "        predictions.loc[j, sampled_data_names[i]] = accuracy_score(y_test, y_pred)"
      ],
      "metadata": {
        "id": "sAJesOo7l9Qm"
      },
      "execution_count": 48,
      "outputs": []
    },
    {
      "cell_type": "code",
      "source": [
        "predictions"
      ],
      "metadata": {
        "colab": {
          "base_uri": "https://localhost:8080/",
          "height": 206
        },
        "id": "U6Vdm5KXs0d0",
        "outputId": "a25c603a-6756-4d30-dd2a-53ff64287a58"
      },
      "execution_count": 49,
      "outputs": [
        {
          "output_type": "execute_result",
          "data": {
            "text/plain": [
              "                 Model    ADASYN     SMOTE  ClusterCentroids  \\\n",
              "0                  KNN  0.856209  0.879085              0.25   \n",
              "1                  SVM  0.643791  0.647059              0.00   \n",
              "2  Logistic Regression  0.767974  0.705882              0.50   \n",
              "3        Random Forest  0.983660  0.973856              1.00   \n",
              "4          Naive Bayes  0.810458  0.859477              0.25   \n",
              "\n",
              "   RandomUnderSampler  RandomOverSampler  \n",
              "0                0.75           0.990196  \n",
              "1                0.00           1.000000  \n",
              "2                0.75           0.823529  \n",
              "3                0.25           1.000000  \n",
              "4                0.00           0.647059  "
            ],
            "text/html": [
              "\n",
              "  <div id=\"df-d5782ac5-4971-41de-8a0a-b878dbb93b73\">\n",
              "    <div class=\"colab-df-container\">\n",
              "      <div>\n",
              "<style scoped>\n",
              "    .dataframe tbody tr th:only-of-type {\n",
              "        vertical-align: middle;\n",
              "    }\n",
              "\n",
              "    .dataframe tbody tr th {\n",
              "        vertical-align: top;\n",
              "    }\n",
              "\n",
              "    .dataframe thead th {\n",
              "        text-align: right;\n",
              "    }\n",
              "</style>\n",
              "<table border=\"1\" class=\"dataframe\">\n",
              "  <thead>\n",
              "    <tr style=\"text-align: right;\">\n",
              "      <th></th>\n",
              "      <th>Model</th>\n",
              "      <th>ADASYN</th>\n",
              "      <th>SMOTE</th>\n",
              "      <th>ClusterCentroids</th>\n",
              "      <th>RandomUnderSampler</th>\n",
              "      <th>RandomOverSampler</th>\n",
              "    </tr>\n",
              "  </thead>\n",
              "  <tbody>\n",
              "    <tr>\n",
              "      <th>0</th>\n",
              "      <td>KNN</td>\n",
              "      <td>0.856209</td>\n",
              "      <td>0.879085</td>\n",
              "      <td>0.25</td>\n",
              "      <td>0.75</td>\n",
              "      <td>0.990196</td>\n",
              "    </tr>\n",
              "    <tr>\n",
              "      <th>1</th>\n",
              "      <td>SVM</td>\n",
              "      <td>0.643791</td>\n",
              "      <td>0.647059</td>\n",
              "      <td>0.00</td>\n",
              "      <td>0.00</td>\n",
              "      <td>1.000000</td>\n",
              "    </tr>\n",
              "    <tr>\n",
              "      <th>2</th>\n",
              "      <td>Logistic Regression</td>\n",
              "      <td>0.767974</td>\n",
              "      <td>0.705882</td>\n",
              "      <td>0.50</td>\n",
              "      <td>0.75</td>\n",
              "      <td>0.823529</td>\n",
              "    </tr>\n",
              "    <tr>\n",
              "      <th>3</th>\n",
              "      <td>Random Forest</td>\n",
              "      <td>0.983660</td>\n",
              "      <td>0.973856</td>\n",
              "      <td>1.00</td>\n",
              "      <td>0.25</td>\n",
              "      <td>1.000000</td>\n",
              "    </tr>\n",
              "    <tr>\n",
              "      <th>4</th>\n",
              "      <td>Naive Bayes</td>\n",
              "      <td>0.810458</td>\n",
              "      <td>0.859477</td>\n",
              "      <td>0.25</td>\n",
              "      <td>0.00</td>\n",
              "      <td>0.647059</td>\n",
              "    </tr>\n",
              "  </tbody>\n",
              "</table>\n",
              "</div>\n",
              "      <button class=\"colab-df-convert\" onclick=\"convertToInteractive('df-d5782ac5-4971-41de-8a0a-b878dbb93b73')\"\n",
              "              title=\"Convert this dataframe to an interactive table.\"\n",
              "              style=\"display:none;\">\n",
              "        \n",
              "  <svg xmlns=\"http://www.w3.org/2000/svg\" height=\"24px\"viewBox=\"0 0 24 24\"\n",
              "       width=\"24px\">\n",
              "    <path d=\"M0 0h24v24H0V0z\" fill=\"none\"/>\n",
              "    <path d=\"M18.56 5.44l.94 2.06.94-2.06 2.06-.94-2.06-.94-.94-2.06-.94 2.06-2.06.94zm-11 1L8.5 8.5l.94-2.06 2.06-.94-2.06-.94L8.5 2.5l-.94 2.06-2.06.94zm10 10l.94 2.06.94-2.06 2.06-.94-2.06-.94-.94-2.06-.94 2.06-2.06.94z\"/><path d=\"M17.41 7.96l-1.37-1.37c-.4-.4-.92-.59-1.43-.59-.52 0-1.04.2-1.43.59L10.3 9.45l-7.72 7.72c-.78.78-.78 2.05 0 2.83L4 21.41c.39.39.9.59 1.41.59.51 0 1.02-.2 1.41-.59l7.78-7.78 2.81-2.81c.8-.78.8-2.07 0-2.86zM5.41 20L4 18.59l7.72-7.72 1.47 1.35L5.41 20z\"/>\n",
              "  </svg>\n",
              "      </button>\n",
              "      \n",
              "  <style>\n",
              "    .colab-df-container {\n",
              "      display:flex;\n",
              "      flex-wrap:wrap;\n",
              "      gap: 12px;\n",
              "    }\n",
              "\n",
              "    .colab-df-convert {\n",
              "      background-color: #E8F0FE;\n",
              "      border: none;\n",
              "      border-radius: 50%;\n",
              "      cursor: pointer;\n",
              "      display: none;\n",
              "      fill: #1967D2;\n",
              "      height: 32px;\n",
              "      padding: 0 0 0 0;\n",
              "      width: 32px;\n",
              "    }\n",
              "\n",
              "    .colab-df-convert:hover {\n",
              "      background-color: #E2EBFA;\n",
              "      box-shadow: 0px 1px 2px rgba(60, 64, 67, 0.3), 0px 1px 3px 1px rgba(60, 64, 67, 0.15);\n",
              "      fill: #174EA6;\n",
              "    }\n",
              "\n",
              "    [theme=dark] .colab-df-convert {\n",
              "      background-color: #3B4455;\n",
              "      fill: #D2E3FC;\n",
              "    }\n",
              "\n",
              "    [theme=dark] .colab-df-convert:hover {\n",
              "      background-color: #434B5C;\n",
              "      box-shadow: 0px 1px 3px 1px rgba(0, 0, 0, 0.15);\n",
              "      filter: drop-shadow(0px 1px 2px rgba(0, 0, 0, 0.3));\n",
              "      fill: #FFFFFF;\n",
              "    }\n",
              "  </style>\n",
              "\n",
              "      <script>\n",
              "        const buttonEl =\n",
              "          document.querySelector('#df-d5782ac5-4971-41de-8a0a-b878dbb93b73 button.colab-df-convert');\n",
              "        buttonEl.style.display =\n",
              "          google.colab.kernel.accessAllowed ? 'block' : 'none';\n",
              "\n",
              "        async function convertToInteractive(key) {\n",
              "          const element = document.querySelector('#df-d5782ac5-4971-41de-8a0a-b878dbb93b73');\n",
              "          const dataTable =\n",
              "            await google.colab.kernel.invokeFunction('convertToInteractive',\n",
              "                                                     [key], {});\n",
              "          if (!dataTable) return;\n",
              "\n",
              "          const docLinkHtml = 'Like what you see? Visit the ' +\n",
              "            '<a target=\"_blank\" href=https://colab.research.google.com/notebooks/data_table.ipynb>data table notebook</a>'\n",
              "            + ' to learn more about interactive tables.';\n",
              "          element.innerHTML = '';\n",
              "          dataTable['output_type'] = 'display_data';\n",
              "          await google.colab.output.renderOutput(dataTable, element);\n",
              "          const docLink = document.createElement('div');\n",
              "          docLink.innerHTML = docLinkHtml;\n",
              "          element.appendChild(docLink);\n",
              "        }\n",
              "      </script>\n",
              "    </div>\n",
              "  </div>\n",
              "  "
            ]
          },
          "metadata": {},
          "execution_count": 49
        }
      ]
    }
  ]
}